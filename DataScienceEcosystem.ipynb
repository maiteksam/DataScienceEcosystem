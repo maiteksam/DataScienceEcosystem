{
 "cells": [
  {
   "cell_type": "markdown",
   "id": "f09bb302",
   "metadata": {},
   "source": [
    "# DataScienceEcosystem"
   ]
  },
  {
   "cell_type": "markdown",
   "id": "1708f702",
   "metadata": {},
   "source": [
    "#In this notebook, Data Science Tools and Ecosystem are summarized."
   ]
  },
  {
   "cell_type": "markdown",
   "id": "a575a3dd",
   "metadata": {},
   "source": [
    "Some of the popular languages that Data Scientists use are:\n",
    "\n",
    "1. python\n",
    "2. R\n",
    "3. SQL\n"
   ]
  },
  {
   "cell_type": "markdown",
   "id": "6d81e067",
   "metadata": {},
   "source": [
    "Some of the commonly used libraries used by Data Scientists include:\n",
    " - TensorFlow\n",
    " - NumPy \n",
    " - SciPy\n",
    "    \n",
    "    "
   ]
  },
  {
   "cell_type": "markdown",
   "id": "4ba293ff",
   "metadata": {},
   "source": [
    "\n",
    "languages| development environments\n",
    "--- | ---\n",
    "python| jpyter notebook\n",
    "R | R studio\n",
    "SQL|Visual studio code"
   ]
  },
  {
   "cell_type": "markdown",
   "id": "66af5cd2",
   "metadata": {},
   "source": [
    "### Below are a few examples of evaluating arithmetic expressions in Python."
   ]
  },
  {
   "cell_type": "code",
   "execution_count": 16,
   "id": "fc09e0a8",
   "metadata": {},
   "outputs": [],
   "source": [
    "#This a simple arithmetic expression to mutiply then add integers\n"
   ]
  },
  {
   "cell_type": "code",
   "execution_count": 14,
   "id": "8e586356",
   "metadata": {},
   "outputs": [
    {
     "data": {
      "text/plain": [
       "17"
      ]
     },
     "execution_count": 14,
     "metadata": {},
     "output_type": "execute_result"
    }
   ],
   "source": [
    "(3*4)+5"
   ]
  },
  {
   "cell_type": "code",
   "execution_count": 17,
   "id": "10cfef88",
   "metadata": {},
   "outputs": [],
   "source": [
    " #This will convert 200 minutes to hours by diving by 60\n",
    " "
   ]
  },
  {
   "cell_type": "code",
   "execution_count": 18,
   "id": "1faa5826",
   "metadata": {},
   "outputs": [
    {
     "data": {
      "text/plain": [
       "3.3333333333333335"
      ]
     },
     "execution_count": 18,
     "metadata": {},
     "output_type": "execute_result"
    }
   ],
   "source": [
    "200/60"
   ]
  },
  {
   "cell_type": "markdown",
   "id": "9a40f015",
   "metadata": {},
   "source": [
    "# Some of the popular languages that Data Scientists use are:\n",
    "- [x]python\n",
    "- [x]R\n",
    "- [ ]SQL"
   ]
  },
  {
   "cell_type": "markdown",
   "id": "74162bcd",
   "metadata": {},
   "source": [
    "## Author name M.Ali"
   ]
  },
  {
   "cell_type": "code",
   "execution_count": null,
   "id": "48748d9e",
   "metadata": {},
   "outputs": [],
   "source": []
  }
 ],
 "metadata": {
  "kernelspec": {
   "display_name": "Python 3 (ipykernel)",
   "language": "python",
   "name": "python3"
  },
  "language_info": {
   "codemirror_mode": {
    "name": "ipython",
    "version": 3
   },
   "file_extension": ".py",
   "mimetype": "text/x-python",
   "name": "python",
   "nbconvert_exporter": "python",
   "pygments_lexer": "ipython3",
   "version": "3.11.4"
  }
 },
 "nbformat": 4,
 "nbformat_minor": 5
}
